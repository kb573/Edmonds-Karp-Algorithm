{
 "cells": [
  {
   "cell_type": "code",
   "execution_count": 22,
   "metadata": {},
   "outputs": [],
   "source": [
    "def breadth_first_search(capacity_graph, capacity_array, source, sink):\n",
    "    \"\"\"\n",
    "    The breadth_first_search function performs a breadth first search for a given capacity graph.\n",
    "    \n",
    "    param: capacity graph\n",
    "    param: capacity array\n",
    "    param: source node\n",
    "    param: sink node\n",
    "    \n",
    "    return: augmented path\n",
    "    \n",
    "    \"\"\"\n",
    "    searches = [source]\n",
    "    aug_paths = {source:[]}\n",
    "    if source == sink:\n",
    "        return aug_paths[source]\n",
    "    while searches: \n",
    "        u = searches.pop(0)\n",
    "        for v in range(len(capacity_graph)):\n",
    "                if(capacity_graph[u][v]-capacity_array[u][v]>0) and v not in aug_paths:\n",
    "                    aug_paths[v] = aug_paths[u]+[(u,v)]\n",
    "                    if v == sink:\n",
    "                        return aug_paths[v]\n",
    "                    searches.append(v)\n",
    "    return None"
   ]
  },
  {
   "cell_type": "code",
   "execution_count": 23,
   "metadata": {},
   "outputs": [],
   "source": [
    "def edmond_karp(capacity_graph, source, sink):\n",
    "    \"\"\"\n",
    "    The edmond_karp function applies the Edmonds-Karp algorithm to a given capacity graph.\n",
    "    \n",
    "    param: capacity graph\n",
    "    param: source node\n",
    "    param: sink node\n",
    "    \n",
    "    return: maximum flow\n",
    "    \n",
    "    \"\"\"\n",
    "    graph_length = len(capacity_graph) \n",
    "    capacity_array = [[0 for i in range(graph_length)] for x in range(graph_length)] #create capacity array of zeros.\n",
    "    aug_path = breadth_first_search(capacity_graph, capacity_array, source, sink) #find the augmented path using breadth search.\n",
    "    while aug_path != None: # continue iterations until an augmented path cannot be found\n",
    "        flow = min(capacity_graph[u][v] - capacity_array[u][v] for u,v in aug_path) # set flow equal to residual capacity.\n",
    "        for u,v in aug_path: #back propogation through the network.\n",
    "            capacity_array[u][v] += flow\n",
    "            capacity_array[v][u] -= flow\n",
    "        aug_path = breadth_first_search(capacity_graph, capacity_array, source, sink)\n",
    "    max_flow = sum(capacity_array[source][i] for i in range(graph_length)) # maximum flow is equal to the sum of all residual capacities.\n",
    "    return max_flow"
   ]
  },
  {
   "cell_type": "code",
   "execution_count": 28,
   "metadata": {},
   "outputs": [
    {
     "name": "stdout",
     "output_type": "stream",
     "text": [
      "9\n"
     ]
    }
   ],
   "source": [
    "capacity_graph = [[ 1, 2, 2, 0, 5, 0 ],  [ 3, 0, 2, 3, 0, 0 ],  [ 2, 0, 1, 1, 2, 0 ],  [ 1, 2, 2, 3, 4, 2 ],  [ 0, 2, 1, 0, 0, 2 ]]  \n",
    "source = 0  \n",
    "sink = 4    \n",
    "\n",
    "print(edmond_karp(capacity_graph, source, sink))"
   ]
  },
  {
   "cell_type": "code",
   "execution_count": 29,
   "metadata": {},
   "outputs": [
    {
     "name": "stdout",
     "output_type": "stream",
     "text": [
      "2\n"
     ]
    }
   ],
   "source": [
    "capacity_graph = [[ 2, 0, 1, 1, 2, 0 ],  [ 3, 0, 2, 3, 0, 0 ],  [ 1, 2, 2, 3, 4, 2 ],  [ 3, 0, 2, 3, 0, 0 ]]  \n",
    "source = 0  \n",
    "sink = 3    \n",
    "\n",
    "print(edmond_karp(capacity_graph, source, sink))"
   ]
  },
  {
   "cell_type": "code",
   "execution_count": null,
   "metadata": {},
   "outputs": [],
   "source": []
  }
 ],
 "metadata": {
  "kernelspec": {
   "display_name": "Python 3",
   "language": "python",
   "name": "python3"
  },
  "language_info": {
   "codemirror_mode": {
    "name": "ipython",
    "version": 3
   },
   "file_extension": ".py",
   "mimetype": "text/x-python",
   "name": "python",
   "nbconvert_exporter": "python",
   "pygments_lexer": "ipython3",
   "version": "3.7.4"
  }
 },
 "nbformat": 4,
 "nbformat_minor": 2
}
